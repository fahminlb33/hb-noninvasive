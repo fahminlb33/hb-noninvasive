{
 "cells": [
  {
   "cell_type": "code",
   "execution_count": 33,
   "metadata": {},
   "outputs": [],
   "source": [
    "import tqdm\n",
    "\n",
    "import numpy as np\n",
    "import pandas as pd\n",
    "import seaborn as sns  \n",
    "import matplotlib.pyplot as plt\n",
    "\n",
    "from scipy.fft import fft\n",
    "from scipy.stats import pearsonr, probplot\n",
    "from scipy.optimize import minimize\n",
    "from scipy.signal import find_peaks\n",
    "from scipy.signal.windows import blackman, hamming"
   ]
  },
  {
   "cell_type": "code",
   "execution_count": 34,
   "metadata": {},
   "outputs": [],
   "source": [
    "MODE_MODEL = \"random-forest\"\n",
    "MODE_DEVICE = \"\""
   ]
  },
  {
   "cell_type": "markdown",
   "metadata": {},
   "source": [
    "## Data Loading"
   ]
  },
  {
   "cell_type": "code",
   "execution_count": 35,
   "metadata": {},
   "outputs": [
    {
     "data": {
      "text/html": [
       "<div>\n",
       "<style scoped>\n",
       "    .dataframe tbody tr th:only-of-type {\n",
       "        vertical-align: middle;\n",
       "    }\n",
       "\n",
       "    .dataframe tbody tr th {\n",
       "        vertical-align: top;\n",
       "    }\n",
       "\n",
       "    .dataframe thead th {\n",
       "        text-align: right;\n",
       "    }\n",
       "</style>\n",
       "<table border=\"1\" class=\"dataframe\">\n",
       "  <thead>\n",
       "    <tr style=\"text-align: right;\">\n",
       "      <th></th>\n",
       "      <th>No</th>\n",
       "      <th>Nama</th>\n",
       "      <th>Umur</th>\n",
       "      <th>ID Pasien di Alat</th>\n",
       "      <th>Tanggal Mikrotest</th>\n",
       "      <th>ID Alat</th>\n",
       "      <th>Hb Gold</th>\n",
       "      <th>Hb Silver</th>\n",
       "      <th>Hb Alat</th>\n",
       "      <th>D0001</th>\n",
       "      <th>...</th>\n",
       "      <th>D7991</th>\n",
       "      <th>D7992</th>\n",
       "      <th>D7993</th>\n",
       "      <th>D7994</th>\n",
       "      <th>D7995</th>\n",
       "      <th>D7996</th>\n",
       "      <th>D7997</th>\n",
       "      <th>D7998</th>\n",
       "      <th>D7999</th>\n",
       "      <th>D8000</th>\n",
       "    </tr>\n",
       "  </thead>\n",
       "  <tbody>\n",
       "    <tr>\n",
       "      <th>0</th>\n",
       "      <td>1</td>\n",
       "      <td>Alya Ashanty Pandiangan</td>\n",
       "      <td>20</td>\n",
       "      <td>25</td>\n",
       "      <td>2024-11-09</td>\n",
       "      <td>HB-01</td>\n",
       "      <td>12.1</td>\n",
       "      <td>0.0</td>\n",
       "      <td>14.02935</td>\n",
       "      <td>487.0</td>\n",
       "      <td>...</td>\n",
       "      <td>58911.0</td>\n",
       "      <td>58913.0</td>\n",
       "      <td>58918.0</td>\n",
       "      <td>58910.0</td>\n",
       "      <td>58930.0</td>\n",
       "      <td>58938.0</td>\n",
       "      <td>58910.0</td>\n",
       "      <td>58928.0</td>\n",
       "      <td>58905.0</td>\n",
       "      <td>58920.0</td>\n",
       "    </tr>\n",
       "    <tr>\n",
       "      <th>1</th>\n",
       "      <td>1</td>\n",
       "      <td>Alya Ashanty Pandiangan</td>\n",
       "      <td>20</td>\n",
       "      <td>25</td>\n",
       "      <td>2024-11-09</td>\n",
       "      <td>HB-04</td>\n",
       "      <td>12.1</td>\n",
       "      <td>0.0</td>\n",
       "      <td>13.33600</td>\n",
       "      <td>521.0</td>\n",
       "      <td>...</td>\n",
       "      <td>59189.0</td>\n",
       "      <td>59190.0</td>\n",
       "      <td>59194.0</td>\n",
       "      <td>59202.0</td>\n",
       "      <td>59182.0</td>\n",
       "      <td>59206.0</td>\n",
       "      <td>59186.0</td>\n",
       "      <td>59206.0</td>\n",
       "      <td>59189.0</td>\n",
       "      <td>59186.0</td>\n",
       "    </tr>\n",
       "    <tr>\n",
       "      <th>2</th>\n",
       "      <td>1</td>\n",
       "      <td>Alya Ashanty Pandiangan</td>\n",
       "      <td>20</td>\n",
       "      <td>25</td>\n",
       "      <td>2024-11-09</td>\n",
       "      <td>HB-05</td>\n",
       "      <td>12.1</td>\n",
       "      <td>0.0</td>\n",
       "      <td>11.53419</td>\n",
       "      <td>573.0</td>\n",
       "      <td>...</td>\n",
       "      <td>59434.0</td>\n",
       "      <td>59419.0</td>\n",
       "      <td>59434.0</td>\n",
       "      <td>59426.0</td>\n",
       "      <td>59430.0</td>\n",
       "      <td>59442.0</td>\n",
       "      <td>59435.0</td>\n",
       "      <td>59441.0</td>\n",
       "      <td>59425.0</td>\n",
       "      <td>59430.0</td>\n",
       "    </tr>\n",
       "    <tr>\n",
       "      <th>3</th>\n",
       "      <td>1</td>\n",
       "      <td>Alya Ashanty Pandiangan</td>\n",
       "      <td>20</td>\n",
       "      <td>25</td>\n",
       "      <td>2024-11-09</td>\n",
       "      <td>HB-06</td>\n",
       "      <td>12.1</td>\n",
       "      <td>0.0</td>\n",
       "      <td>13.90464</td>\n",
       "      <td>563.0</td>\n",
       "      <td>...</td>\n",
       "      <td>58526.0</td>\n",
       "      <td>58550.0</td>\n",
       "      <td>58542.0</td>\n",
       "      <td>58533.0</td>\n",
       "      <td>58548.0</td>\n",
       "      <td>58536.0</td>\n",
       "      <td>58542.0</td>\n",
       "      <td>58553.0</td>\n",
       "      <td>58528.0</td>\n",
       "      <td>58544.0</td>\n",
       "    </tr>\n",
       "    <tr>\n",
       "      <th>4</th>\n",
       "      <td>1</td>\n",
       "      <td>Alya Ashanty Pandiangan</td>\n",
       "      <td>20</td>\n",
       "      <td>25</td>\n",
       "      <td>2024-11-09</td>\n",
       "      <td>HB-08</td>\n",
       "      <td>12.1</td>\n",
       "      <td>0.0</td>\n",
       "      <td>14.45103</td>\n",
       "      <td>573.0</td>\n",
       "      <td>...</td>\n",
       "      <td>58546.0</td>\n",
       "      <td>58532.0</td>\n",
       "      <td>58538.0</td>\n",
       "      <td>58530.0</td>\n",
       "      <td>58534.0</td>\n",
       "      <td>58540.0</td>\n",
       "      <td>58516.0</td>\n",
       "      <td>58549.0</td>\n",
       "      <td>58543.0</td>\n",
       "      <td>58540.0</td>\n",
       "    </tr>\n",
       "  </tbody>\n",
       "</table>\n",
       "<p>5 rows × 8009 columns</p>\n",
       "</div>"
      ],
      "text/plain": [
       "   No                     Nama  Umur  ID Pasien di Alat Tanggal Mikrotest  \\\n",
       "0   1  Alya Ashanty Pandiangan    20                 25        2024-11-09   \n",
       "1   1  Alya Ashanty Pandiangan    20                 25        2024-11-09   \n",
       "2   1  Alya Ashanty Pandiangan    20                 25        2024-11-09   \n",
       "3   1  Alya Ashanty Pandiangan    20                 25        2024-11-09   \n",
       "4   1  Alya Ashanty Pandiangan    20                 25        2024-11-09   \n",
       "\n",
       "  ID Alat  Hb Gold  Hb Silver   Hb Alat  D0001  ...    D7991    D7992  \\\n",
       "0   HB-01     12.1        0.0  14.02935  487.0  ...  58911.0  58913.0   \n",
       "1   HB-04     12.1        0.0  13.33600  521.0  ...  59189.0  59190.0   \n",
       "2   HB-05     12.1        0.0  11.53419  573.0  ...  59434.0  59419.0   \n",
       "3   HB-06     12.1        0.0  13.90464  563.0  ...  58526.0  58550.0   \n",
       "4   HB-08     12.1        0.0  14.45103  573.0  ...  58546.0  58532.0   \n",
       "\n",
       "     D7993    D7994    D7995    D7996    D7997    D7998    D7999    D8000  \n",
       "0  58918.0  58910.0  58930.0  58938.0  58910.0  58928.0  58905.0  58920.0  \n",
       "1  59194.0  59202.0  59182.0  59206.0  59186.0  59206.0  59189.0  59186.0  \n",
       "2  59434.0  59426.0  59430.0  59442.0  59435.0  59441.0  59425.0  59430.0  \n",
       "3  58542.0  58533.0  58548.0  58536.0  58542.0  58553.0  58528.0  58544.0  \n",
       "4  58538.0  58530.0  58534.0  58540.0  58516.0  58549.0  58543.0  58540.0  \n",
       "\n",
       "[5 rows x 8009 columns]"
      ]
     },
     "execution_count": 35,
     "metadata": {},
     "output_type": "execute_result"
    }
   ],
   "source": [
    "df = pd.read_csv(\"../data/ready-20241123.csv\", sep=\";\", decimal=\",\", parse_dates=[\"Tanggal Mikrotest\"], dayfirst=True)\n",
    "\n",
    "# remove zeros\n",
    "df = df[df[\"Hb Gold\"] > 0]\n",
    "\n",
    "# filter by device\n",
    "if MODE_DEVICE != \"\":\n",
    "    df = df[df[\"ID Alat\"] == MODE_DEVICE]\n",
    "\n",
    "df.head()"
   ]
  },
  {
   "cell_type": "code",
   "execution_count": 36,
   "metadata": {},
   "outputs": [
    {
     "data": {
      "text/plain": [
       "array(['HB-01', 'HB-04', 'HB-05', 'HB-06', 'HB-08', 'HB-14', 'HB-17'],\n",
       "      dtype=object)"
      ]
     },
     "execution_count": 36,
     "metadata": {},
     "output_type": "execute_result"
    }
   ],
   "source": [
    "df[\"ID Alat\"].unique()"
   ]
  },
  {
   "cell_type": "markdown",
   "metadata": {},
   "source": [
    "## EDA"
   ]
  },
  {
   "cell_type": "code",
   "execution_count": 37,
   "metadata": {},
   "outputs": [],
   "source": [
    "# plt.figure(figsize=(20, 4))\n",
    "# plt.plot(df.iloc[0, 9:].values)"
   ]
  },
  {
   "cell_type": "code",
   "execution_count": 38,
   "metadata": {},
   "outputs": [],
   "source": [
    "# baseline = np.mean(df.iloc[0, 9:].values[:2000])\n",
    "# segments = np.split(df.iloc[0, 9:].values[2000:], 30)\n",
    "# baseline, len(segments), segments[0].shape"
   ]
  },
  {
   "cell_type": "code",
   "execution_count": 39,
   "metadata": {},
   "outputs": [],
   "source": [
    "# corrected_segments = np.array([segment - baseline for segment in segments]).ravel()\n",
    "# corrected_segments"
   ]
  },
  {
   "cell_type": "code",
   "execution_count": 40,
   "metadata": {},
   "outputs": [],
   "source": [
    "# plt.figure(figsize=(20, 4))\n",
    "# plt.plot(range(corrected_segments.shape[0]), corrected_segments)"
   ]
  },
  {
   "cell_type": "code",
   "execution_count": 41,
   "metadata": {},
   "outputs": [],
   "source": [
    "# signal = df.iloc[0, 9:].values\n",
    "# w = hamming(signal.shape[0])\n",
    "# xw = np.abs(fft(signal * w))[1:signal.shape[0]//2]\n",
    "# xx = np.abs(fft(signal))[1:signal.shape[0]//2]\n",
    "\n",
    "# fig, ax = plt.subplot_mosaic(\"AA;BC\", constrained_layout=True)\n",
    "# ax[\"A\"].plot(signal)\n",
    "# ax[\"A\"].set_title(\"Raw signal\")\n",
    "# ax[\"A\"].set_xlabel(\"Time\")\n",
    "# ax[\"A\"].set_ylabel(\"Sensor reading\")\n",
    "\n",
    "# ax[\"B\"].semilogy(xx)\n",
    "# ax[\"B\"].set_title(\"FFT signal\")\n",
    "# ax[\"B\"].set_xlabel(\"Frequency\")\n",
    "# ax[\"B\"].set_ylabel(\"Amplitude\")\n",
    "\n",
    "# ax[\"C\"].semilogy(xw)\n",
    "# ax[\"C\"].set_title(\"FFT signal with Hamming window\")\n",
    "# ax[\"C\"].set_xlabel(\"Frequency\")\n",
    "# ax[\"C\"].set_ylabel(\"Amplitude\")"
   ]
  },
  {
   "cell_type": "markdown",
   "metadata": {},
   "source": [
    "## Preprocessing"
   ]
  },
  {
   "cell_type": "code",
   "execution_count": 42,
   "metadata": {},
   "outputs": [
    {
     "data": {
      "text/plain": [
       "((935, 8000), (935,))"
      ]
     },
     "execution_count": 42,
     "metadata": {},
     "output_type": "execute_result"
    }
   ],
   "source": [
    "X = df.iloc[:, 9:].fillna(0).values\n",
    "y = df.iloc[:, 6].values\n",
    "\n",
    "X.shape, y.shape"
   ]
  },
  {
   "cell_type": "code",
   "execution_count": 43,
   "metadata": {},
   "outputs": [
    {
     "data": {
      "text/plain": [
       "(935, 3000)"
      ]
     },
     "execution_count": 43,
     "metadata": {},
     "output_type": "execute_result"
    }
   ],
   "source": [
    "# baseline correction\n",
    "X_corrected = X[:, 2000:] - np.mean(X[:, :2000], axis=1).reshape(-1, 1)\n",
    "# X_corrected = X\n",
    "\n",
    "w = hamming(X_corrected.shape[1])\n",
    "X_corrected = np.abs(fft(X_corrected * w))[:, :X_corrected.shape[1]//2]\n",
    "# X_corrected = np.abs(fft(X_corrected))[:, :X_corrected.shape[1]//2]\n",
    "\n",
    "X_corrected.shape"
   ]
  },
  {
   "cell_type": "code",
   "execution_count": 44,
   "metadata": {},
   "outputs": [
    {
     "name": "stderr",
     "output_type": "stream",
     "text": [
      "100%|██████████| 3000/3000 [00:02<00:00, 1212.66it/s]\n"
     ]
    },
    {
     "data": {
      "text/plain": [
       "0    0.028550\n",
       "1    0.054792\n",
       "2    0.047204\n",
       "3    0.027464\n",
       "4    0.012013\n",
       "dtype: float64"
      ]
     },
     "execution_count": 44,
     "metadata": {},
     "output_type": "execute_result"
    }
   ],
   "source": [
    "X_corr = []\n",
    "for i in tqdm.trange(X_corrected.shape[1]):\n",
    "    r, p = pearsonr(X_corrected[:, i], y)\n",
    "    X_corr.append((i, r))\n",
    "\n",
    "sr_corr = pd.Series([x[1] for x in X_corr], index=[x[0] for x in X_corr])\n",
    "sr_corr.head()"
   ]
  },
  {
   "cell_type": "code",
   "execution_count": 45,
   "metadata": {},
   "outputs": [],
   "source": [
    "sr_corr.to_csv(f\"{MODE_DEVICE}-corr.csv\", index=False)"
   ]
  },
  {
   "cell_type": "code",
   "execution_count": 46,
   "metadata": {},
   "outputs": [
    {
     "data": {
      "text/plain": [
       "[2072,\n",
       " 1892,\n",
       " 2342,\n",
       " 1265,\n",
       " 2045,\n",
       " 568,\n",
       " 2492,\n",
       " 440,\n",
       " 2068,\n",
       " 2942,\n",
       " 2218,\n",
       " 1505,\n",
       " 65,\n",
       " 545,\n",
       " 2414,\n",
       " 1325,\n",
       " 2278,\n",
       " 1903,\n",
       " 287,\n",
       " 485]"
      ]
     },
     "execution_count": 46,
     "metadata": {},
     "output_type": "execute_result"
    }
   ],
   "source": [
    "cols_corr = sr_corr.sort_values(ascending=False).index.tolist()\n",
    "# cols = [*cols_corr[:3], *cols_corr[-3:]]\n",
    "cols = cols_corr[:20]\n",
    "cols"
   ]
  },
  {
   "cell_type": "code",
   "execution_count": 47,
   "metadata": {},
   "outputs": [
    {
     "data": {
      "text/plain": [
       "(935, 20)"
      ]
     },
     "execution_count": 47,
     "metadata": {},
     "output_type": "execute_result"
    }
   ],
   "source": [
    "# get X, y\n",
    "X_sel = X[:, cols]\n",
    "X_sel.shape"
   ]
  },
  {
   "cell_type": "markdown",
   "metadata": {},
   "source": [
    "## Regressor"
   ]
  },
  {
   "cell_type": "markdown",
   "metadata": {},
   "source": [
    "### Cross-Validation"
   ]
  },
  {
   "cell_type": "code",
   "execution_count": 48,
   "metadata": {},
   "outputs": [],
   "source": [
    "from sklearn.ensemble import VotingRegressor\n",
    "from sklearn.model_selection import cross_validate, cross_val_score, train_test_split\n",
    "from sklearn.metrics import r2_score, mean_absolute_error, mean_squared_error, root_mean_squared_error\n",
    "\n",
    "from xgboost import XGBRegressor\n",
    "from lightgbm.sklearn import LGBMRegressor\n",
    "from sklearn.tree import DecisionTreeRegressor\n",
    "from sklearn.ensemble import RandomForestRegressor"
   ]
  },
  {
   "cell_type": "code",
   "execution_count": 49,
   "metadata": {},
   "outputs": [],
   "source": [
    "def create_model(xgb_weight=0.5):\n",
    "    if MODE_MODEL == \"decision-tree\":\n",
    "        return DecisionTreeRegressor()\n",
    "    elif MODE_MODEL == \"random-forest\":\n",
    "        return RandomForestRegressor(random_state=24, max_depth=8)\n",
    "    elif MODE_MODEL == \"xgboost\":\n",
    "        return XGBRegressor(random_state=42)\n",
    "    elif MODE_MODEL == \"lightgbm\":\n",
    "        return LGBMRegressor(random_state=42)\n",
    "    elif MODE_MODEL == \"voting\":\n",
    "        return VotingRegressor([(\"xgb\", XGBRegressor(verbosity=0, random_state=42)), (\"lgbm\", LGBMRegressor(silent=True, verbose=-1, random_state=42))], weights=[xgb_weight, 1-xgb_weight])"
   ]
  },
  {
   "cell_type": "code",
   "execution_count": 50,
   "metadata": {},
   "outputs": [
    {
     "data": {
      "text/html": [
       "<div>\n",
       "<style scoped>\n",
       "    .dataframe tbody tr th:only-of-type {\n",
       "        vertical-align: middle;\n",
       "    }\n",
       "\n",
       "    .dataframe tbody tr th {\n",
       "        vertical-align: top;\n",
       "    }\n",
       "\n",
       "    .dataframe thead th {\n",
       "        text-align: right;\n",
       "    }\n",
       "</style>\n",
       "<table border=\"1\" class=\"dataframe\">\n",
       "  <thead>\n",
       "    <tr style=\"text-align: right;\">\n",
       "      <th></th>\n",
       "      <th>fit_time</th>\n",
       "      <th>score_time</th>\n",
       "      <th>test_r2</th>\n",
       "      <th>test_neg_mean_absolute_error</th>\n",
       "      <th>test_neg_mean_squared_error</th>\n",
       "      <th>test_neg_root_mean_squared_error</th>\n",
       "    </tr>\n",
       "  </thead>\n",
       "  <tbody>\n",
       "    <tr>\n",
       "      <th>0</th>\n",
       "      <td>0.487479</td>\n",
       "      <td>0.005798</td>\n",
       "      <td>-0.102763</td>\n",
       "      <td>-1.126265</td>\n",
       "      <td>-2.195339</td>\n",
       "      <td>-1.481668</td>\n",
       "    </tr>\n",
       "    <tr>\n",
       "      <th>1</th>\n",
       "      <td>0.471761</td>\n",
       "      <td>0.004761</td>\n",
       "      <td>-0.714217</td>\n",
       "      <td>-1.152254</td>\n",
       "      <td>-2.095175</td>\n",
       "      <td>-1.447472</td>\n",
       "    </tr>\n",
       "    <tr>\n",
       "      <th>2</th>\n",
       "      <td>0.474538</td>\n",
       "      <td>0.004926</td>\n",
       "      <td>-0.223422</td>\n",
       "      <td>-1.383931</td>\n",
       "      <td>-3.832065</td>\n",
       "      <td>-1.957566</td>\n",
       "    </tr>\n",
       "    <tr>\n",
       "      <th>3</th>\n",
       "      <td>0.488765</td>\n",
       "      <td>0.005363</td>\n",
       "      <td>-0.072890</td>\n",
       "      <td>-1.523352</td>\n",
       "      <td>-3.469575</td>\n",
       "      <td>-1.862680</td>\n",
       "    </tr>\n",
       "    <tr>\n",
       "      <th>4</th>\n",
       "      <td>0.478743</td>\n",
       "      <td>0.005267</td>\n",
       "      <td>-0.094032</td>\n",
       "      <td>-1.409182</td>\n",
       "      <td>-3.180059</td>\n",
       "      <td>-1.783272</td>\n",
       "    </tr>\n",
       "  </tbody>\n",
       "</table>\n",
       "</div>"
      ],
      "text/plain": [
       "   fit_time  score_time   test_r2  test_neg_mean_absolute_error  \\\n",
       "0  0.487479    0.005798 -0.102763                     -1.126265   \n",
       "1  0.471761    0.004761 -0.714217                     -1.152254   \n",
       "2  0.474538    0.004926 -0.223422                     -1.383931   \n",
       "3  0.488765    0.005363 -0.072890                     -1.523352   \n",
       "4  0.478743    0.005267 -0.094032                     -1.409182   \n",
       "\n",
       "   test_neg_mean_squared_error  test_neg_root_mean_squared_error  \n",
       "0                    -2.195339                         -1.481668  \n",
       "1                    -2.095175                         -1.447472  \n",
       "2                    -3.832065                         -1.957566  \n",
       "3                    -3.469575                         -1.862680  \n",
       "4                    -3.180059                         -1.783272  "
      ]
     },
     "execution_count": 50,
     "metadata": {},
     "output_type": "execute_result"
    }
   ],
   "source": [
    "scores = cross_validate(create_model(), X_sel, y, scoring=[\"r2\", \"neg_mean_absolute_error\", \"neg_mean_squared_error\", \"neg_root_mean_squared_error\"])\n",
    "scores_df = pd.DataFrame(scores)\n",
    "scores_df"
   ]
  },
  {
   "cell_type": "code",
   "execution_count": 51,
   "metadata": {},
   "outputs": [
    {
     "data": {
      "text/plain": [
       "fit_time                            0.480257\n",
       "score_time                          0.005223\n",
       "test_r2                            -0.241465\n",
       "test_neg_mean_absolute_error       -1.318997\n",
       "test_neg_mean_squared_error        -2.954443\n",
       "test_neg_root_mean_squared_error   -1.706531\n",
       "dtype: float64"
      ]
     },
     "execution_count": 51,
     "metadata": {},
     "output_type": "execute_result"
    }
   ],
   "source": [
    "scores_df.mean()"
   ]
  },
  {
   "cell_type": "markdown",
   "metadata": {},
   "source": [
    "### Optimize Weight for Voting"
   ]
  },
  {
   "cell_type": "code",
   "execution_count": 52,
   "metadata": {},
   "outputs": [],
   "source": [
    "# def optim_fun(x, xt, yt):\n",
    "#     return np.abs(np.mean(cross_val_score(create_model(x[0]), xt, yt, scoring=\"neg_mean_squared_error\", verbose=0)))\n",
    "\n",
    "# res = minimize(optim_fun, x0=0.5, args=(X_sel, y), method=\"Nelder-Mead\", tol=1e-4)\n",
    "# res"
   ]
  },
  {
   "cell_type": "markdown",
   "metadata": {},
   "source": [
    "### Hold-out"
   ]
  },
  {
   "cell_type": "code",
   "execution_count": 53,
   "metadata": {},
   "outputs": [
    {
     "data": {
      "text/plain": [
       "((654, 20), (281, 20), (654,), (281,))"
      ]
     },
     "execution_count": 53,
     "metadata": {},
     "output_type": "execute_result"
    }
   ],
   "source": [
    "X_train, X_test, y_train, y_test = train_test_split(X_sel, y, test_size=0.3, random_state=24)\n",
    "X_train.shape, X_test.shape, y_train.shape, y_test.shape"
   ]
  },
  {
   "cell_type": "code",
   "execution_count": 54,
   "metadata": {},
   "outputs": [
    {
     "data": {
      "text/html": [
       "<style>#sk-container-id-2 {\n",
       "  /* Definition of color scheme common for light and dark mode */\n",
       "  --sklearn-color-text: black;\n",
       "  --sklearn-color-line: gray;\n",
       "  /* Definition of color scheme for unfitted estimators */\n",
       "  --sklearn-color-unfitted-level-0: #fff5e6;\n",
       "  --sklearn-color-unfitted-level-1: #f6e4d2;\n",
       "  --sklearn-color-unfitted-level-2: #ffe0b3;\n",
       "  --sklearn-color-unfitted-level-3: chocolate;\n",
       "  /* Definition of color scheme for fitted estimators */\n",
       "  --sklearn-color-fitted-level-0: #f0f8ff;\n",
       "  --sklearn-color-fitted-level-1: #d4ebff;\n",
       "  --sklearn-color-fitted-level-2: #b3dbfd;\n",
       "  --sklearn-color-fitted-level-3: cornflowerblue;\n",
       "\n",
       "  /* Specific color for light theme */\n",
       "  --sklearn-color-text-on-default-background: var(--sg-text-color, var(--theme-code-foreground, var(--jp-content-font-color1, black)));\n",
       "  --sklearn-color-background: var(--sg-background-color, var(--theme-background, var(--jp-layout-color0, white)));\n",
       "  --sklearn-color-border-box: var(--sg-text-color, var(--theme-code-foreground, var(--jp-content-font-color1, black)));\n",
       "  --sklearn-color-icon: #696969;\n",
       "\n",
       "  @media (prefers-color-scheme: dark) {\n",
       "    /* Redefinition of color scheme for dark theme */\n",
       "    --sklearn-color-text-on-default-background: var(--sg-text-color, var(--theme-code-foreground, var(--jp-content-font-color1, white)));\n",
       "    --sklearn-color-background: var(--sg-background-color, var(--theme-background, var(--jp-layout-color0, #111)));\n",
       "    --sklearn-color-border-box: var(--sg-text-color, var(--theme-code-foreground, var(--jp-content-font-color1, white)));\n",
       "    --sklearn-color-icon: #878787;\n",
       "  }\n",
       "}\n",
       "\n",
       "#sk-container-id-2 {\n",
       "  color: var(--sklearn-color-text);\n",
       "}\n",
       "\n",
       "#sk-container-id-2 pre {\n",
       "  padding: 0;\n",
       "}\n",
       "\n",
       "#sk-container-id-2 input.sk-hidden--visually {\n",
       "  border: 0;\n",
       "  clip: rect(1px 1px 1px 1px);\n",
       "  clip: rect(1px, 1px, 1px, 1px);\n",
       "  height: 1px;\n",
       "  margin: -1px;\n",
       "  overflow: hidden;\n",
       "  padding: 0;\n",
       "  position: absolute;\n",
       "  width: 1px;\n",
       "}\n",
       "\n",
       "#sk-container-id-2 div.sk-dashed-wrapped {\n",
       "  border: 1px dashed var(--sklearn-color-line);\n",
       "  margin: 0 0.4em 0.5em 0.4em;\n",
       "  box-sizing: border-box;\n",
       "  padding-bottom: 0.4em;\n",
       "  background-color: var(--sklearn-color-background);\n",
       "}\n",
       "\n",
       "#sk-container-id-2 div.sk-container {\n",
       "  /* jupyter's `normalize.less` sets `[hidden] { display: none; }`\n",
       "     but bootstrap.min.css set `[hidden] { display: none !important; }`\n",
       "     so we also need the `!important` here to be able to override the\n",
       "     default hidden behavior on the sphinx rendered scikit-learn.org.\n",
       "     See: https://github.com/scikit-learn/scikit-learn/issues/21755 */\n",
       "  display: inline-block !important;\n",
       "  position: relative;\n",
       "}\n",
       "\n",
       "#sk-container-id-2 div.sk-text-repr-fallback {\n",
       "  display: none;\n",
       "}\n",
       "\n",
       "div.sk-parallel-item,\n",
       "div.sk-serial,\n",
       "div.sk-item {\n",
       "  /* draw centered vertical line to link estimators */\n",
       "  background-image: linear-gradient(var(--sklearn-color-text-on-default-background), var(--sklearn-color-text-on-default-background));\n",
       "  background-size: 2px 100%;\n",
       "  background-repeat: no-repeat;\n",
       "  background-position: center center;\n",
       "}\n",
       "\n",
       "/* Parallel-specific style estimator block */\n",
       "\n",
       "#sk-container-id-2 div.sk-parallel-item::after {\n",
       "  content: \"\";\n",
       "  width: 100%;\n",
       "  border-bottom: 2px solid var(--sklearn-color-text-on-default-background);\n",
       "  flex-grow: 1;\n",
       "}\n",
       "\n",
       "#sk-container-id-2 div.sk-parallel {\n",
       "  display: flex;\n",
       "  align-items: stretch;\n",
       "  justify-content: center;\n",
       "  background-color: var(--sklearn-color-background);\n",
       "  position: relative;\n",
       "}\n",
       "\n",
       "#sk-container-id-2 div.sk-parallel-item {\n",
       "  display: flex;\n",
       "  flex-direction: column;\n",
       "}\n",
       "\n",
       "#sk-container-id-2 div.sk-parallel-item:first-child::after {\n",
       "  align-self: flex-end;\n",
       "  width: 50%;\n",
       "}\n",
       "\n",
       "#sk-container-id-2 div.sk-parallel-item:last-child::after {\n",
       "  align-self: flex-start;\n",
       "  width: 50%;\n",
       "}\n",
       "\n",
       "#sk-container-id-2 div.sk-parallel-item:only-child::after {\n",
       "  width: 0;\n",
       "}\n",
       "\n",
       "/* Serial-specific style estimator block */\n",
       "\n",
       "#sk-container-id-2 div.sk-serial {\n",
       "  display: flex;\n",
       "  flex-direction: column;\n",
       "  align-items: center;\n",
       "  background-color: var(--sklearn-color-background);\n",
       "  padding-right: 1em;\n",
       "  padding-left: 1em;\n",
       "}\n",
       "\n",
       "\n",
       "/* Toggleable style: style used for estimator/Pipeline/ColumnTransformer box that is\n",
       "clickable and can be expanded/collapsed.\n",
       "- Pipeline and ColumnTransformer use this feature and define the default style\n",
       "- Estimators will overwrite some part of the style using the `sk-estimator` class\n",
       "*/\n",
       "\n",
       "/* Pipeline and ColumnTransformer style (default) */\n",
       "\n",
       "#sk-container-id-2 div.sk-toggleable {\n",
       "  /* Default theme specific background. It is overwritten whether we have a\n",
       "  specific estimator or a Pipeline/ColumnTransformer */\n",
       "  background-color: var(--sklearn-color-background);\n",
       "}\n",
       "\n",
       "/* Toggleable label */\n",
       "#sk-container-id-2 label.sk-toggleable__label {\n",
       "  cursor: pointer;\n",
       "  display: block;\n",
       "  width: 100%;\n",
       "  margin-bottom: 0;\n",
       "  padding: 0.5em;\n",
       "  box-sizing: border-box;\n",
       "  text-align: center;\n",
       "}\n",
       "\n",
       "#sk-container-id-2 label.sk-toggleable__label-arrow:before {\n",
       "  /* Arrow on the left of the label */\n",
       "  content: \"▸\";\n",
       "  float: left;\n",
       "  margin-right: 0.25em;\n",
       "  color: var(--sklearn-color-icon);\n",
       "}\n",
       "\n",
       "#sk-container-id-2 label.sk-toggleable__label-arrow:hover:before {\n",
       "  color: var(--sklearn-color-text);\n",
       "}\n",
       "\n",
       "/* Toggleable content - dropdown */\n",
       "\n",
       "#sk-container-id-2 div.sk-toggleable__content {\n",
       "  max-height: 0;\n",
       "  max-width: 0;\n",
       "  overflow: hidden;\n",
       "  text-align: left;\n",
       "  /* unfitted */\n",
       "  background-color: var(--sklearn-color-unfitted-level-0);\n",
       "}\n",
       "\n",
       "#sk-container-id-2 div.sk-toggleable__content.fitted {\n",
       "  /* fitted */\n",
       "  background-color: var(--sklearn-color-fitted-level-0);\n",
       "}\n",
       "\n",
       "#sk-container-id-2 div.sk-toggleable__content pre {\n",
       "  margin: 0.2em;\n",
       "  border-radius: 0.25em;\n",
       "  color: var(--sklearn-color-text);\n",
       "  /* unfitted */\n",
       "  background-color: var(--sklearn-color-unfitted-level-0);\n",
       "}\n",
       "\n",
       "#sk-container-id-2 div.sk-toggleable__content.fitted pre {\n",
       "  /* unfitted */\n",
       "  background-color: var(--sklearn-color-fitted-level-0);\n",
       "}\n",
       "\n",
       "#sk-container-id-2 input.sk-toggleable__control:checked~div.sk-toggleable__content {\n",
       "  /* Expand drop-down */\n",
       "  max-height: 200px;\n",
       "  max-width: 100%;\n",
       "  overflow: auto;\n",
       "}\n",
       "\n",
       "#sk-container-id-2 input.sk-toggleable__control:checked~label.sk-toggleable__label-arrow:before {\n",
       "  content: \"▾\";\n",
       "}\n",
       "\n",
       "/* Pipeline/ColumnTransformer-specific style */\n",
       "\n",
       "#sk-container-id-2 div.sk-label input.sk-toggleable__control:checked~label.sk-toggleable__label {\n",
       "  color: var(--sklearn-color-text);\n",
       "  background-color: var(--sklearn-color-unfitted-level-2);\n",
       "}\n",
       "\n",
       "#sk-container-id-2 div.sk-label.fitted input.sk-toggleable__control:checked~label.sk-toggleable__label {\n",
       "  background-color: var(--sklearn-color-fitted-level-2);\n",
       "}\n",
       "\n",
       "/* Estimator-specific style */\n",
       "\n",
       "/* Colorize estimator box */\n",
       "#sk-container-id-2 div.sk-estimator input.sk-toggleable__control:checked~label.sk-toggleable__label {\n",
       "  /* unfitted */\n",
       "  background-color: var(--sklearn-color-unfitted-level-2);\n",
       "}\n",
       "\n",
       "#sk-container-id-2 div.sk-estimator.fitted input.sk-toggleable__control:checked~label.sk-toggleable__label {\n",
       "  /* fitted */\n",
       "  background-color: var(--sklearn-color-fitted-level-2);\n",
       "}\n",
       "\n",
       "#sk-container-id-2 div.sk-label label.sk-toggleable__label,\n",
       "#sk-container-id-2 div.sk-label label {\n",
       "  /* The background is the default theme color */\n",
       "  color: var(--sklearn-color-text-on-default-background);\n",
       "}\n",
       "\n",
       "/* On hover, darken the color of the background */\n",
       "#sk-container-id-2 div.sk-label:hover label.sk-toggleable__label {\n",
       "  color: var(--sklearn-color-text);\n",
       "  background-color: var(--sklearn-color-unfitted-level-2);\n",
       "}\n",
       "\n",
       "/* Label box, darken color on hover, fitted */\n",
       "#sk-container-id-2 div.sk-label.fitted:hover label.sk-toggleable__label.fitted {\n",
       "  color: var(--sklearn-color-text);\n",
       "  background-color: var(--sklearn-color-fitted-level-2);\n",
       "}\n",
       "\n",
       "/* Estimator label */\n",
       "\n",
       "#sk-container-id-2 div.sk-label label {\n",
       "  font-family: monospace;\n",
       "  font-weight: bold;\n",
       "  display: inline-block;\n",
       "  line-height: 1.2em;\n",
       "}\n",
       "\n",
       "#sk-container-id-2 div.sk-label-container {\n",
       "  text-align: center;\n",
       "}\n",
       "\n",
       "/* Estimator-specific */\n",
       "#sk-container-id-2 div.sk-estimator {\n",
       "  font-family: monospace;\n",
       "  border: 1px dotted var(--sklearn-color-border-box);\n",
       "  border-radius: 0.25em;\n",
       "  box-sizing: border-box;\n",
       "  margin-bottom: 0.5em;\n",
       "  /* unfitted */\n",
       "  background-color: var(--sklearn-color-unfitted-level-0);\n",
       "}\n",
       "\n",
       "#sk-container-id-2 div.sk-estimator.fitted {\n",
       "  /* fitted */\n",
       "  background-color: var(--sklearn-color-fitted-level-0);\n",
       "}\n",
       "\n",
       "/* on hover */\n",
       "#sk-container-id-2 div.sk-estimator:hover {\n",
       "  /* unfitted */\n",
       "  background-color: var(--sklearn-color-unfitted-level-2);\n",
       "}\n",
       "\n",
       "#sk-container-id-2 div.sk-estimator.fitted:hover {\n",
       "  /* fitted */\n",
       "  background-color: var(--sklearn-color-fitted-level-2);\n",
       "}\n",
       "\n",
       "/* Specification for estimator info (e.g. \"i\" and \"?\") */\n",
       "\n",
       "/* Common style for \"i\" and \"?\" */\n",
       "\n",
       ".sk-estimator-doc-link,\n",
       "a:link.sk-estimator-doc-link,\n",
       "a:visited.sk-estimator-doc-link {\n",
       "  float: right;\n",
       "  font-size: smaller;\n",
       "  line-height: 1em;\n",
       "  font-family: monospace;\n",
       "  background-color: var(--sklearn-color-background);\n",
       "  border-radius: 1em;\n",
       "  height: 1em;\n",
       "  width: 1em;\n",
       "  text-decoration: none !important;\n",
       "  margin-left: 1ex;\n",
       "  /* unfitted */\n",
       "  border: var(--sklearn-color-unfitted-level-1) 1pt solid;\n",
       "  color: var(--sklearn-color-unfitted-level-1);\n",
       "}\n",
       "\n",
       ".sk-estimator-doc-link.fitted,\n",
       "a:link.sk-estimator-doc-link.fitted,\n",
       "a:visited.sk-estimator-doc-link.fitted {\n",
       "  /* fitted */\n",
       "  border: var(--sklearn-color-fitted-level-1) 1pt solid;\n",
       "  color: var(--sklearn-color-fitted-level-1);\n",
       "}\n",
       "\n",
       "/* On hover */\n",
       "div.sk-estimator:hover .sk-estimator-doc-link:hover,\n",
       ".sk-estimator-doc-link:hover,\n",
       "div.sk-label-container:hover .sk-estimator-doc-link:hover,\n",
       ".sk-estimator-doc-link:hover {\n",
       "  /* unfitted */\n",
       "  background-color: var(--sklearn-color-unfitted-level-3);\n",
       "  color: var(--sklearn-color-background);\n",
       "  text-decoration: none;\n",
       "}\n",
       "\n",
       "div.sk-estimator.fitted:hover .sk-estimator-doc-link.fitted:hover,\n",
       ".sk-estimator-doc-link.fitted:hover,\n",
       "div.sk-label-container:hover .sk-estimator-doc-link.fitted:hover,\n",
       ".sk-estimator-doc-link.fitted:hover {\n",
       "  /* fitted */\n",
       "  background-color: var(--sklearn-color-fitted-level-3);\n",
       "  color: var(--sklearn-color-background);\n",
       "  text-decoration: none;\n",
       "}\n",
       "\n",
       "/* Span, style for the box shown on hovering the info icon */\n",
       ".sk-estimator-doc-link span {\n",
       "  display: none;\n",
       "  z-index: 9999;\n",
       "  position: relative;\n",
       "  font-weight: normal;\n",
       "  right: .2ex;\n",
       "  padding: .5ex;\n",
       "  margin: .5ex;\n",
       "  width: min-content;\n",
       "  min-width: 20ex;\n",
       "  max-width: 50ex;\n",
       "  color: var(--sklearn-color-text);\n",
       "  box-shadow: 2pt 2pt 4pt #999;\n",
       "  /* unfitted */\n",
       "  background: var(--sklearn-color-unfitted-level-0);\n",
       "  border: .5pt solid var(--sklearn-color-unfitted-level-3);\n",
       "}\n",
       "\n",
       ".sk-estimator-doc-link.fitted span {\n",
       "  /* fitted */\n",
       "  background: var(--sklearn-color-fitted-level-0);\n",
       "  border: var(--sklearn-color-fitted-level-3);\n",
       "}\n",
       "\n",
       ".sk-estimator-doc-link:hover span {\n",
       "  display: block;\n",
       "}\n",
       "\n",
       "/* \"?\"-specific style due to the `<a>` HTML tag */\n",
       "\n",
       "#sk-container-id-2 a.estimator_doc_link {\n",
       "  float: right;\n",
       "  font-size: 1rem;\n",
       "  line-height: 1em;\n",
       "  font-family: monospace;\n",
       "  background-color: var(--sklearn-color-background);\n",
       "  border-radius: 1rem;\n",
       "  height: 1rem;\n",
       "  width: 1rem;\n",
       "  text-decoration: none;\n",
       "  /* unfitted */\n",
       "  color: var(--sklearn-color-unfitted-level-1);\n",
       "  border: var(--sklearn-color-unfitted-level-1) 1pt solid;\n",
       "}\n",
       "\n",
       "#sk-container-id-2 a.estimator_doc_link.fitted {\n",
       "  /* fitted */\n",
       "  border: var(--sklearn-color-fitted-level-1) 1pt solid;\n",
       "  color: var(--sklearn-color-fitted-level-1);\n",
       "}\n",
       "\n",
       "/* On hover */\n",
       "#sk-container-id-2 a.estimator_doc_link:hover {\n",
       "  /* unfitted */\n",
       "  background-color: var(--sklearn-color-unfitted-level-3);\n",
       "  color: var(--sklearn-color-background);\n",
       "  text-decoration: none;\n",
       "}\n",
       "\n",
       "#sk-container-id-2 a.estimator_doc_link.fitted:hover {\n",
       "  /* fitted */\n",
       "  background-color: var(--sklearn-color-fitted-level-3);\n",
       "}\n",
       "</style><div id=\"sk-container-id-2\" class=\"sk-top-container\"><div class=\"sk-text-repr-fallback\"><pre>RandomForestRegressor(max_depth=8, random_state=24)</pre><b>In a Jupyter environment, please rerun this cell to show the HTML representation or trust the notebook. <br />On GitHub, the HTML representation is unable to render, please try loading this page with nbviewer.org.</b></div><div class=\"sk-container\" hidden><div class=\"sk-item\"><div class=\"sk-estimator fitted sk-toggleable\"><input class=\"sk-toggleable__control sk-hidden--visually\" id=\"sk-estimator-id-2\" type=\"checkbox\" checked><label for=\"sk-estimator-id-2\" class=\"sk-toggleable__label fitted sk-toggleable__label-arrow fitted\">&nbsp;&nbsp;RandomForestRegressor<a class=\"sk-estimator-doc-link fitted\" rel=\"noreferrer\" target=\"_blank\" href=\"https://scikit-learn.org/1.5/modules/generated/sklearn.ensemble.RandomForestRegressor.html\">?<span>Documentation for RandomForestRegressor</span></a><span class=\"sk-estimator-doc-link fitted\">i<span>Fitted</span></span></label><div class=\"sk-toggleable__content fitted\"><pre>RandomForestRegressor(max_depth=8, random_state=24)</pre></div> </div></div></div></div>"
      ],
      "text/plain": [
       "RandomForestRegressor(max_depth=8, random_state=24)"
      ]
     },
     "execution_count": 54,
     "metadata": {},
     "output_type": "execute_result"
    }
   ],
   "source": [
    "# reg = create_model(res.x[0])\n",
    "reg = create_model()\n",
    "reg.fit(X_train, y_train)"
   ]
  },
  {
   "cell_type": "code",
   "execution_count": 55,
   "metadata": {},
   "outputs": [
    {
     "data": {
      "text/plain": [
       "{'bootstrap': True,\n",
       " 'ccp_alpha': 0.0,\n",
       " 'criterion': 'squared_error',\n",
       " 'max_depth': 8,\n",
       " 'max_features': 1.0,\n",
       " 'max_leaf_nodes': None,\n",
       " 'max_samples': None,\n",
       " 'min_impurity_decrease': 0.0,\n",
       " 'min_samples_leaf': 1,\n",
       " 'min_samples_split': 2,\n",
       " 'min_weight_fraction_leaf': 0.0,\n",
       " 'monotonic_cst': None,\n",
       " 'n_estimators': 100,\n",
       " 'n_jobs': None,\n",
       " 'oob_score': False,\n",
       " 'random_state': 24,\n",
       " 'verbose': 0,\n",
       " 'warm_start': False}"
      ]
     },
     "execution_count": 55,
     "metadata": {},
     "output_type": "execute_result"
    }
   ],
   "source": [
    "reg.get_params()"
   ]
  },
  {
   "cell_type": "code",
   "execution_count": 56,
   "metadata": {},
   "outputs": [],
   "source": [
    "y_pred = reg.predict(X_test)\n",
    "resid = y_test - y_pred"
   ]
  },
  {
   "cell_type": "code",
   "execution_count": 57,
   "metadata": {},
   "outputs": [
    {
     "data": {
      "image/png": "[encoded data removed]",
      "text/plain": [
       "<Figure size 800x300 with 2 Axes>"
      ]
     },
     "metadata": {},
     "output_type": "display_data"
    }
   ],
   "source": [
    "fig, ax = plt.subplots(1, 2, figsize=(8, 3))\n",
    "ax[0].scatter(y_test, y_pred, alpha=0.5)\n",
    "ax[0].set_title(\"Actual vs Predicted\")\n",
    "ax[0].set_xlabel(\"Hb predicted\")\n",
    "ax[0].set_ylabel(\"Hb gold\")\n",
    "\n",
    "ax[1].set_title(\"Residuals\")\n",
    "ax[1].scatter(resid, y_pred, alpha=0.5)\n",
    "ax[1].set_xlabel(\"Hb gold\")\n",
    "ax[1].set_ylabel(\"Predicted residuals\")\n",
    "\n",
    "fig.tight_layout()\n",
    "plt.show()"
   ]
  },
  {
   "cell_type": "code",
   "execution_count": 58,
   "metadata": {},
   "outputs": [
    {
     "data": {
      "image/png": "[encoded data removed]",
      "text/plain": [
       "<Figure size 800x300 with 2 Axes>"
      ]
     },
     "metadata": {},
     "output_type": "display_data"
    }
   ],
   "source": [
    "fig, ax = plt.subplots(1, 2, figsize=(8, 3))\n",
    "\n",
    "probplot(y_pred, dist=\"norm\", plot=ax[0])\n",
    "ax[0].set_title(\"Probability plot of the predcited Hb\")\n",
    "\n",
    "probplot(resid, dist=\"norm\", plot=ax[1])\n",
    "ax[1].set_title(\"Probability plot of the residuals of predcited Hb\")\n",
    "\n",
    "fig.tight_layout()\n",
    "plt.show()"
   ]
  },
  {
   "cell_type": "markdown",
   "metadata": {},
   "source": [
    "### Evaluate Performance"
   ]
  },
  {
   "cell_type": "code",
   "execution_count": 65,
   "metadata": {},
   "outputs": [],
   "source": [
    "# df_pred = pd.DataFrame({\n",
    "#     \"hb_gold\": y_test,\n",
    "#     \"hb_pred\" : reg.predict(X_test)\n",
    "# }).sort_values(\"hb_gold\")\n",
    "\n",
    "df_pred = pd.DataFrame({\n",
    "    \"hb_gold\": y,\n",
    "    \"hb_pred\" : reg.predict(X[:, cols])\n",
    "}).sort_values(\"hb_gold\")"
   ]
  },
  {
   "cell_type": "code",
   "execution_count": 66,
   "metadata": {},
   "outputs": [
    {
     "name": "stdout",
     "output_type": "stream",
     "text": [
      "R = 0.6446\n",
      "R2 = 0.2937\n",
      "MAE = 1.0673\n",
      "MSE = 1.9240\n",
      "RMSE = 1.3871\n"
     ]
    }
   ],
   "source": [
    "r, _ = pearsonr(df_pred[\"hb_gold\"], df_pred[\"hb_pred\"])\n",
    "\n",
    "print(f\"R = {r:.4f}\")\n",
    "print(f\"R2 = {r2_score(df_pred['hb_gold'], df_pred['hb_pred']):.4f}\")\n",
    "print(f\"MAE = {mean_absolute_error(df_pred['hb_gold'], df_pred['hb_pred']):.4f}\")\n",
    "print(f\"MSE = {mean_squared_error(df_pred['hb_gold'], df_pred['hb_pred']):.4f}\")\n",
    "print(f\"RMSE = {root_mean_squared_error(df_pred['hb_gold'], df_pred['hb_pred']):.4f}\")"
   ]
  },
  {
   "cell_type": "code",
   "execution_count": 64,
   "metadata": {},
   "outputs": [
    {
     "data": {
      "image/png": "[encoded data removed]",
      "text/plain": [
       "<Figure size 640x480 with 1 Axes>"
      ]
     },
     "metadata": {},
     "output_type": "display_data"
    }
   ],
   "source": [
    "fig, ax = plt.subplots()  \n",
    "ax.scatter(range(df_pred.shape[0]), df_pred[\"hb_gold\"], c='b', alpha=0.7, label=\"Actual\")\n",
    "ax.scatter(range(df_pred.shape[0]), df_pred[\"hb_pred\"], c='r', alpha=0.2, label=\"Predicted\")\n",
    "ax.legend()\n",
    "\n",
    "ax.set_title(f\"Actual and predicted Hb values ($r={r:.2f}$)\")\n",
    "ax.set_xlabel(\"Sample number\")\n",
    "ax.set_ylabel(\"Hb value\")\n",
    "\n",
    "plt.show()"
   ]
  },
  {
   "cell_type": "code",
   "execution_count": null,
   "metadata": {},
   "outputs": [],
   "source": []
  },
  {
   "cell_type": "code",
   "execution_count": null,
   "metadata": {},
   "outputs": [],
   "source": []
  }
 ],
 "metadata": {
  "kernelspec": {
   "display_name": ".venv",
   "language": "python",
   "name": "python3"
  },
  "language_info": {
   "codemirror_mode": {
    "name": "ipython",
    "version": 3
   },
   "file_extension": ".py",
   "mimetype": "text/x-python",
   "name": "python",
   "nbconvert_exporter": "python",
   "pygments_lexer": "ipython3",
   "version": "3.11.9"
  }
 },
 "nbformat": 4,
 "nbformat_minor": 2
}
